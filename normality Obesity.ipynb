{
 "cells": [
  {
   "cell_type": "code",
   "execution_count": 1,
   "id": "56c59b65",
   "metadata": {},
   "outputs": [],
   "source": [
    "import pandas as pd\n",
    "from scipy.stats import shapiro\n",
    "from scipy.stats import normaltest"
   ]
  },
  {
   "cell_type": "code",
   "execution_count": 2,
   "id": "6efc7d67",
   "metadata": {},
   "outputs": [
    {
     "name": "stdout",
     "output_type": "stream",
     "text": [
      "D:\\My dissertation\\obesity\\obesity_project\n"
     ]
    }
   ],
   "source": [
    "cd D:\\\\My dissertation\\\\obesity\\\\obesity_project"
   ]
  },
  {
   "cell_type": "code",
   "execution_count": 161,
   "id": "496f317b",
   "metadata": {},
   "outputs": [],
   "source": [
    "df = pd.read_excel('output_file_F_modified.xlsx')"
   ]
  },
  {
   "cell_type": "code",
   "execution_count": 86,
   "id": "07ab3beb",
   "metadata": {},
   "outputs": [],
   "source": [
    "df = pd.read_excel('output_file_L_modified.xlsx')"
   ]
  },
  {
   "cell_type": "code",
   "execution_count": 41,
   "id": "e0479991",
   "metadata": {},
   "outputs": [
    {
     "name": "stdout",
     "output_type": "stream",
     "text": [
      "Index(['Type', 'Factor', 'Animal ', 'Cell ', 'Transient ', 'Baseline ',\n",
      "       'Amplitude ', 't0 ', 'delta t0 ', 'Delay ', 'r_10 ', 'r_20 ', 'r_50 ',\n",
      "       'r_80 ', 'r_90 ', 'TTP ', 'd_10 ', 'd_20 ', 'd_50 ', 'd_80 ', 'd_90 ',\n",
      "       't_2080 ', 't_1090 ', 'FDHM ', 't_8020 ', 't_9010 ', 'dLL'],\n",
      "      dtype='object')\n"
     ]
    }
   ],
   "source": [
    "print(df.columns)"
   ]
  },
  {
   "cell_type": "code",
   "execution_count": null,
   "id": "11d3e05f",
   "metadata": {},
   "outputs": [],
   "source": [
    "group0 = df[df['Factor'] == 0]['FDHM ']\n",
    "group1 = df[df['Factor'] == 1]['FDHM ']"
   ]
  },
  {
   "cell_type": "code",
   "execution_count": null,
   "id": "73679b0f",
   "metadata": {},
   "outputs": [],
   "source": [
    "group0 = 1+df[df['Factor'] == 0]['dLL']\n",
    "group1 = 1+df[df['Factor'] == 1]['dLL']"
   ]
  },
  {
   "cell_type": "code",
   "execution_count": 87,
   "id": "aea75bf8",
   "metadata": {},
   "outputs": [],
   "source": [
    "group00 = 1-df[(df['Type'] == 0) & (df['Factor'] == 0)]['dLL']\n",
    "group01 = 1-df[(df['Type'] == 0) & (df['Factor'] == 1)]['dLL']\n",
    "group10 = 1-df[(df['Type'] == 1) & (df['Factor'] == 0)]['dLL']\n",
    "group11 = 1-df[(df['Type'] == 1) & (df['Factor'] == 1)]['dLL']"
   ]
  },
  {
   "cell_type": "code",
   "execution_count": 211,
   "id": "bdb78cac",
   "metadata": {},
   "outputs": [],
   "source": [
    "par = 't_9010 '\n",
    "group00 = df[(df['Type'] == 0) & (df['Factor'] == 0)][par]\n",
    "group01 = df[(df['Type'] == 0) & (df['Factor'] == 1)][par]\n",
    "group10 = df[(df['Type'] == 1) & (df['Factor'] == 0)][par]\n",
    "group11 = df[(df['Type'] == 1) & (df['Factor'] == 1)][par]"
   ]
  },
  {
   "cell_type": "code",
   "execution_count": null,
   "id": "cd1bfc6d",
   "metadata": {},
   "outputs": [],
   "source": [
    "$\\Delta F/F_0$"
   ]
  },
  {
   "cell_type": "code",
   "execution_count": 165,
   "id": "ab842baf",
   "metadata": {},
   "outputs": [
    {
     "name": "stdout",
     "output_type": "stream",
     "text": [
      "Using matplotlib backend: QtAgg\n"
     ]
    }
   ],
   "source": [
    "#dFF\n",
    "%matplotlib\n",
    "import matplotlib.pyplot as plt\n",
    "import scipy.stats as stats\n",
    "import seaborn as sns\n",
    "import numpy as np\n",
    "\n",
    "size = np.arange(1, 8.5, 1)\n",
    "plt.figure(figsize=(10,6))\n",
    "\n",
    "binwidth = 1\n",
    "bins = np.arange(1, 8 + binwidth, binwidth)\n",
    "\n",
    "# Plotting histogram for each group\n",
    "sns.histplot(group00, bins=bins, kde=True, color='blue', label='LS Group', alpha=0.5, stat='probability')\n",
    "sns.histplot(group01, bins=bins, kde=True, color='red', label='LR Group', alpha=0.5, stat='probability')\n",
    "sns.histplot(group10, bins=bins, kde=True, color='green', label='OS Group', alpha=0.5, stat='probability')\n",
    "sns.histplot(group11, bins=bins, kde=True, color='orange', label='OR Group', alpha=0.5, stat='probability')\n",
    "\n",
    "# Setting the title, labels, and legend\n",
    "#plt.title('Histogram FDHM for Sedentary and Running Groups')\n",
    "plt.xticks(size)\n",
    "plt.yticks(np.arange(0,0.45,0.1))\n",
    "plt.xlabel('$\\Delta F/F_0$', fontsize=24)\n",
    "plt.ylabel('Fraction', fontsize=24)\n",
    "\n",
    "\n",
    "plt.xticks(size,fontsize=24)  # Adjust the fontsize as needed\n",
    "plt.yticks(fontsize=24)  # Adjust the fontsize as needed\n",
    "\n",
    "\n",
    "\n",
    "plt.legend(fontsize=20)\n",
    "\n",
    "plt.tight_layout()\n",
    "plt.show()\n"
   ]
  },
  {
   "cell_type": "code",
   "execution_count": 196,
   "id": "00c1ded0",
   "metadata": {},
   "outputs": [
    {
     "name": "stdout",
     "output_type": "stream",
     "text": [
      "Using matplotlib backend: QtAgg\n"
     ]
    }
   ],
   "source": [
    "#10-90 Rise\n",
    "%matplotlib\n",
    "import matplotlib.pyplot as plt\n",
    "import scipy.stats as stats\n",
    "import seaborn as sns\n",
    "import numpy as np\n",
    "\n",
    "size = np.arange(5, 56, 10)\n",
    "plt.figure(figsize=(10,6))\n",
    "\n",
    "binwidth = 4\n",
    "bins = np.arange(5, 56 + binwidth, binwidth)\n",
    "\n",
    "# Plotting histogram for each group\n",
    "sns.histplot(group00, bins=bins, kde=True, color='blue', label='LS Group', alpha=0.5, stat='probability')\n",
    "sns.histplot(group01, bins=bins, kde=True, color='red', label='LR Group', alpha=0.5, stat='probability')\n",
    "sns.histplot(group10, bins=bins, kde=True, color='green', label='OS Group', alpha=0.5, stat='probability')\n",
    "sns.histplot(group11, bins=bins, kde=True, color='orange', label='OR Group', alpha=0.5, stat='probability')\n",
    "\n",
    "# Setting the title, labels, and legend\n",
    "#plt.title('Histogram FDHM for Sedentary and Running Groups')\n",
    "plt.xticks(size)\n",
    "plt.yticks(np.arange(0,0.45,0.1))\n",
    "plt.xlabel('10-90 % Rise time, ms', fontsize=24)\n",
    "plt.ylabel('Fraction', fontsize=24)\n",
    "\n",
    "\n",
    "plt.xticks(size,fontsize=24)  # Adjust the fontsize as needed\n",
    "plt.yticks(fontsize=24)  # Adjust the fontsize as needed\n",
    "\n",
    "\n",
    "\n",
    "plt.legend(fontsize=20)\n",
    "\n",
    "plt.tight_layout()\n",
    "plt.show()\n"
   ]
  },
  {
   "cell_type": "code",
   "execution_count": 203,
   "id": "c2a85824",
   "metadata": {},
   "outputs": [
    {
     "name": "stdout",
     "output_type": "stream",
     "text": [
      "Using matplotlib backend: QtAgg\n"
     ]
    }
   ],
   "source": [
    "#TTP\n",
    "%matplotlib\n",
    "import matplotlib.pyplot as plt\n",
    "import scipy.stats as stats\n",
    "import seaborn as sns\n",
    "import numpy as np\n",
    "\n",
    "size = np.arange(10, 111, 20)\n",
    "plt.figure(figsize=(10,6))\n",
    "\n",
    "binwidth = 10\n",
    "bins = np.arange(10, 111 + binwidth, binwidth)\n",
    "\n",
    "# Plotting histogram for each group\n",
    "sns.histplot(group00, bins=bins, kde=True, color='blue', label='LS Group', alpha=0.5, stat='probability')\n",
    "sns.histplot(group01, bins=bins, kde=True, color='red', label='LR Group', alpha=0.5, stat='probability')\n",
    "sns.histplot(group10, bins=bins, kde=True, color='green', label='OS Group', alpha=0.5, stat='probability')\n",
    "sns.histplot(group11, bins=bins, kde=True, color='orange', label='OR Group', alpha=0.5, stat='probability')\n",
    "\n",
    "# Setting the title, labels, and legend\n",
    "#plt.title('Histogram FDHM for Sedentary and Running Groups')\n",
    "plt.xticks(size)\n",
    "plt.yticks(np.arange(0,0.45,0.1))\n",
    "plt.xlabel('Time-to-peak, ms', fontsize=24)\n",
    "plt.ylabel('Fraction', fontsize=24)\n",
    "\n",
    "\n",
    "plt.xticks(size,fontsize=24)  # Adjust the fontsize as needed\n",
    "plt.yticks(fontsize=24)  # Adjust the fontsize as needed\n",
    "\n",
    "\n",
    "\n",
    "plt.legend(fontsize=20)\n",
    "\n",
    "plt.tight_layout()\n",
    "plt.show()\n"
   ]
  },
  {
   "cell_type": "code",
   "execution_count": 210,
   "id": "b43ccccc",
   "metadata": {},
   "outputs": [
    {
     "name": "stdout",
     "output_type": "stream",
     "text": [
      "Using matplotlib backend: QtAgg\n"
     ]
    }
   ],
   "source": [
    "#FDHM\n",
    "%matplotlib\n",
    "import matplotlib.pyplot as plt\n",
    "import scipy.stats as stats\n",
    "import seaborn as sns\n",
    "import numpy as np\n",
    "\n",
    "size = np.arange(120, 321, 40)\n",
    "plt.figure(figsize=(10,6))\n",
    "\n",
    "binwidth = 20\n",
    "bins = np.arange(120, 321 + binwidth, binwidth)\n",
    "\n",
    "# Plotting histogram for each group\n",
    "sns.histplot(group00, bins=bins, kde=True, color='blue', label='LS Group', alpha=0.5, stat='probability')\n",
    "sns.histplot(group01, bins=bins, kde=True, color='red', label='LR Group', alpha=0.5, stat='probability')\n",
    "sns.histplot(group10, bins=bins, kde=True, color='green', label='OS Group', alpha=0.5, stat='probability')\n",
    "sns.histplot(group11, bins=bins, kde=True, color='orange', label='OR Group', alpha=0.5, stat='probability')\n",
    "\n",
    "# Setting the title, labels, and legend\n",
    "#plt.title('Histogram FDHM for Sedentary and Running Groups')\n",
    "plt.xticks(size)\n",
    "plt.yticks(np.arange(0,0.45,0.1))\n",
    "plt.xlabel('FDHM, ms', fontsize=24)\n",
    "plt.ylabel('Fraction', fontsize=24)\n",
    "\n",
    "\n",
    "plt.xticks(size,fontsize=24)  # Adjust the fontsize as needed\n",
    "plt.yticks(fontsize=24)  # Adjust the fontsize as needed\n",
    "\n",
    "\n",
    "\n",
    "plt.legend(fontsize=20)\n",
    "\n",
    "plt.tight_layout()\n",
    "plt.show()\n"
   ]
  },
  {
   "cell_type": "code",
   "execution_count": 223,
   "id": "82cac7e0",
   "metadata": {},
   "outputs": [
    {
     "name": "stdout",
     "output_type": "stream",
     "text": [
      "Using matplotlib backend: QtAgg\n"
     ]
    }
   ],
   "source": [
    "#Decay\n",
    "%matplotlib\n",
    "import matplotlib.pyplot as plt\n",
    "import scipy.stats as stats\n",
    "import seaborn as sns\n",
    "import numpy as np\n",
    "\n",
    "size = np.arange(160, 600, 80)\n",
    "plt.figure(figsize=(10,6))\n",
    "\n",
    "binwidth = 50\n",
    "bins = np.arange(160, 600 + binwidth, binwidth)\n",
    "\n",
    "# Plotting histogram for each group\n",
    "sns.histplot(group00, bins=bins, kde=True, color='blue', label='LS Group', alpha=0.5, stat='probability')\n",
    "sns.histplot(group01, bins=bins, kde=True, color='red', label='LR Group', alpha=0.5, stat='probability')\n",
    "sns.histplot(group10, bins=bins, kde=True, color='green', label='OS Group', alpha=0.5, stat='probability')\n",
    "sns.histplot(group11, bins=bins, kde=True, color='orange', label='OR Group', alpha=0.5, stat='probability')\n",
    "\n",
    "# Setting the title, labels, and legend\n",
    "#plt.title('Histogram FDHM for Sedentary and Running Groups')\n",
    "plt.xticks(size)\n",
    "plt.yticks(np.arange(0,0.45,0.1))\n",
    "plt.xlabel('90-10% Decay time, ms', fontsize=24)\n",
    "plt.ylabel('Fraction', fontsize=24)\n",
    "\n",
    "\n",
    "plt.xticks(size,fontsize=24)  # Adjust the fontsize as needed\n",
    "plt.yticks(fontsize=24)  # Adjust the fontsize as needed\n",
    "\n",
    "\n",
    "\n",
    "plt.legend(fontsize=20)\n",
    "\n",
    "plt.tight_layout()\n",
    "plt.show()\n"
   ]
  },
  {
   "cell_type": "code",
   "execution_count": 122,
   "id": "a54713a9",
   "metadata": {},
   "outputs": [
    {
     "name": "stdout",
     "output_type": "stream",
     "text": [
      "Using matplotlib backend: QtAgg\n"
     ]
    }
   ],
   "source": [
    "#dLL\n",
    "%matplotlib\n",
    "import matplotlib.pyplot as plt\n",
    "import scipy.stats as stats\n",
    "import seaborn as sns\n",
    "import numpy as np\n",
    "\n",
    "size = np.arange(0.75, 1.01, 0.05)\n",
    "plt.figure(figsize=(10,6))\n",
    "\n",
    "binwidth = 0.03\n",
    "bins = np.arange(0.75, 1.01 + binwidth, binwidth)\n",
    "\n",
    "# Plotting histogram for each group\n",
    "sns.histplot(group00, bins=bins, kde=True, color='blue', label='LS Group', alpha=0.5, stat='probability')\n",
    "sns.histplot(group01, bins=bins, kde=True, color='red', label='LR Group', alpha=0.5, stat='probability')\n",
    "sns.histplot(group10, bins=bins, kde=True, color='green', label='OS Group', alpha=0.5, stat='probability')\n",
    "sns.histplot(group11, bins=bins, kde=True, color='orange', label='OR Group', alpha=0.5, stat='probability')\n",
    "\n",
    "# Setting the title, labels, and legend\n",
    "#plt.title('Histogram FDHM for Sedentary and Running Groups')\n",
    "plt.xticks(size)\n",
    "plt.yticks(np.arange(0,0.45,0.1))\n",
    "plt.xlabel('Time, ms', fontsize=24)\n",
    "plt.ylabel('Fraction', fontsize=24)\n",
    "\n",
    "\n",
    "plt.xticks(size,fontsize=24)  # Adjust the fontsize as needed\n",
    "plt.yticks(fontsize=24)  # Adjust the fontsize as needed\n",
    "\n",
    "\n",
    "\n",
    "plt.legend(fontsize=20)\n",
    "\n",
    "plt.tight_layout()\n",
    "plt.show()\n"
   ]
  },
  {
   "cell_type": "code",
   "execution_count": 133,
   "id": "8b00dd9f",
   "metadata": {},
   "outputs": [
    {
     "name": "stdout",
     "output_type": "stream",
     "text": [
      "Using matplotlib backend: QtAgg\n"
     ]
    }
   ],
   "source": [
    "#10-90 Rise\n",
    "%matplotlib\n",
    "import matplotlib.pyplot as plt\n",
    "import scipy.stats as stats\n",
    "import seaborn as sns\n",
    "import numpy as np\n",
    "\n",
    "size = np.arange(30, 176, 35)\n",
    "plt.figure(figsize=(10,6))\n",
    "\n",
    "binwidth = 12\n",
    "bins = np.arange(30, 176 + binwidth, binwidth)\n",
    "\n",
    "# Plotting histogram for each group\n",
    "sns.histplot(group00, bins=bins, kde=True, color='blue', label='LS Group', alpha=0.5, stat='probability')\n",
    "sns.histplot(group01, bins=bins, kde=True, color='red', label='LR Group', alpha=0.5, stat='probability')\n",
    "sns.histplot(group10, bins=bins, kde=True, color='green', label='OS Group', alpha=0.5, stat='probability')\n",
    "sns.histplot(group11, bins=bins, kde=True, color='orange', label='OR Group', alpha=0.5, stat='probability')\n",
    "\n",
    "# Setting the title, labels, and legend\n",
    "#plt.title('Histogram FDHM for Sedentary and Running Groups')\n",
    "plt.xticks(size)\n",
    "plt.yticks(np.arange(0,0.45,0.1))\n",
    "plt.xlabel('10-90 % Rise time, ms', fontsize=24)\n",
    "plt.ylabel('Fraction', fontsize=24)\n",
    "\n",
    "\n",
    "plt.xticks(size,fontsize=24)  # Adjust the fontsize as needed\n",
    "plt.yticks(fontsize=24)  # Adjust the fontsize as needed\n",
    "\n",
    "\n",
    "\n",
    "plt.legend(fontsize=20)\n",
    "\n",
    "plt.tight_layout()\n",
    "plt.show()\n"
   ]
  },
  {
   "cell_type": "code",
   "execution_count": 136,
   "id": "59760abb",
   "metadata": {},
   "outputs": [
    {
     "name": "stdout",
     "output_type": "stream",
     "text": [
      "Using matplotlib backend: QtAgg\n"
     ]
    }
   ],
   "source": [
    "#TTP\n",
    "%matplotlib\n",
    "import matplotlib.pyplot as plt\n",
    "import scipy.stats as stats\n",
    "import seaborn as sns\n",
    "import numpy as np\n",
    "\n",
    "size = np.arange(70, 281, 40)\n",
    "plt.figure(figsize=(10,6))\n",
    "\n",
    "binwidth = 20\n",
    "bins = np.arange(70, 281 + binwidth, binwidth)\n",
    "\n",
    "# Plotting histogram for each group\n",
    "sns.histplot(group00, bins=bins, kde=True, color='blue', label='LS Group', alpha=0.5, stat='probability')\n",
    "sns.histplot(group01, bins=bins, kde=True, color='red', label='LR Group', alpha=0.5, stat='probability')\n",
    "sns.histplot(group10, bins=bins, kde=True, color='green', label='OS Group', alpha=0.5, stat='probability')\n",
    "sns.histplot(group11, bins=bins, kde=True, color='orange', label='OR Group', alpha=0.5, stat='probability')\n",
    "\n",
    "# Setting the title, labels, and legend\n",
    "#plt.title('Histogram FDHM for Sedentary and Running Groups')\n",
    "plt.xticks(size)\n",
    "plt.yticks(np.arange(0,0.45,0.1))\n",
    "plt.xlabel('Time-to-peak, ms', fontsize=24)\n",
    "plt.ylabel('Fraction', fontsize=24)\n",
    "\n",
    "\n",
    "plt.xticks(size,fontsize=24)  # Adjust the fontsize as needed\n",
    "plt.yticks(fontsize=24)  # Adjust the fontsize as needed\n",
    "\n",
    "\n",
    "\n",
    "plt.legend(fontsize=20)\n",
    "\n",
    "plt.tight_layout()\n",
    "plt.show()\n"
   ]
  },
  {
   "cell_type": "code",
   "execution_count": 145,
   "id": "2c982578",
   "metadata": {},
   "outputs": [
    {
     "name": "stdout",
     "output_type": "stream",
     "text": [
      "Using matplotlib backend: QtAgg\n"
     ]
    }
   ],
   "source": [
    "#FDHM\n",
    "%matplotlib\n",
    "import matplotlib.pyplot as plt\n",
    "import scipy.stats as stats\n",
    "import seaborn as sns\n",
    "import numpy as np\n",
    "\n",
    "size = np.arange(80, 400, 60)\n",
    "plt.figure(figsize=(10,6))\n",
    "\n",
    "binwidth = 33\n",
    "bins = np.arange(80, 400 + binwidth, binwidth)\n",
    "\n",
    "# Plotting histogram for each group\n",
    "sns.histplot(group00, bins=bins, kde=True, color='blue', label='LS Group', alpha=0.5, stat='probability')\n",
    "sns.histplot(group01, bins=bins, kde=True, color='red', label='LR Group', alpha=0.5, stat='probability')\n",
    "sns.histplot(group10, bins=bins, kde=True, color='green', label='OS Group', alpha=0.5, stat='probability')\n",
    "sns.histplot(group11, bins=bins, kde=True, color='orange', label='OR Group', alpha=0.5, stat='probability')\n",
    "\n",
    "# Setting the title, labels, and legend\n",
    "#plt.title('Histogram FDHM for Sedentary and Running Groups')\n",
    "plt.xticks(size)\n",
    "plt.yticks(np.arange(0,0.45,0.1))\n",
    "plt.xlabel('FDHM, ms', fontsize=24)\n",
    "plt.ylabel('Fraction', fontsize=24)\n",
    "\n",
    "\n",
    "plt.xticks(size,fontsize=24)  # Adjust the fontsize as needed\n",
    "plt.yticks(fontsize=24)  # Adjust the fontsize as needed\n",
    "\n",
    "\n",
    "\n",
    "plt.legend(fontsize=20)\n",
    "\n",
    "plt.tight_layout()\n",
    "plt.show()\n"
   ]
  },
  {
   "cell_type": "code",
   "execution_count": 146,
   "id": "41b01171",
   "metadata": {},
   "outputs": [],
   "source": [
    "par = 't_9010 '\n",
    "group00 = df[(df['Type'] == 0) & (df['Factor'] == 0)][par]\n",
    "group01 = df[(df['Type'] == 0) & (df['Factor'] == 1)][par]\n",
    "group10 = df[(df['Type'] == 1) & (df['Factor'] == 0)][par]\n",
    "group11 = df[(df['Type'] == 1) & (df['Factor'] == 1)][par]"
   ]
  },
  {
   "cell_type": "code",
   "execution_count": 159,
   "id": "b4569a7a",
   "metadata": {},
   "outputs": [
    {
     "name": "stdout",
     "output_type": "stream",
     "text": [
      "Using matplotlib backend: QtAgg\n"
     ]
    }
   ],
   "source": [
    "#Decay\n",
    "%matplotlib\n",
    "import matplotlib.pyplot as plt\n",
    "import scipy.stats as stats\n",
    "import seaborn as sns\n",
    "import numpy as np\n",
    "\n",
    "size = np.arange(40, 460, 80)\n",
    "plt.figure(figsize=(10,6))\n",
    "\n",
    "binwidth = 40\n",
    "bins = np.arange(40, 460 + binwidth, binwidth)\n",
    "\n",
    "# Plotting histogram for each group\n",
    "sns.histplot(group00, bins=bins, kde=True, color='blue', label='LS Group', alpha=0.5, stat='probability')\n",
    "sns.histplot(group01, bins=bins, kde=True, color='red', label='LR Group', alpha=0.5, stat='probability')\n",
    "sns.histplot(group10, bins=bins, kde=True, color='green', label='OS Group', alpha=0.5, stat='probability')\n",
    "sns.histplot(group11, bins=bins, kde=True, color='orange', label='OR Group', alpha=0.5, stat='probability')\n",
    "\n",
    "# Setting the title, labels, and legend\n",
    "#plt.title('Histogram FDHM for Sedentary and Running Groups')\n",
    "plt.xticks(size)\n",
    "plt.yticks(np.arange(0,0.45,0.1))\n",
    "plt.xlabel('90-10% Decay time, ms', fontsize=24)\n",
    "plt.ylabel('Fraction', fontsize=24)\n",
    "\n",
    "\n",
    "plt.xticks(size,fontsize=24)  # Adjust the fontsize as needed\n",
    "plt.yticks(fontsize=24)  # Adjust the fontsize as needed\n",
    "\n",
    "\n",
    "\n",
    "plt.legend(fontsize=20)\n",
    "\n",
    "plt.tight_layout()\n",
    "plt.show()\n"
   ]
  },
  {
   "cell_type": "code",
   "execution_count": 8,
   "id": "ffbb76f9",
   "metadata": {},
   "outputs": [
    {
     "name": "stdout",
     "output_type": "stream",
     "text": [
      "Using matplotlib backend: QtAgg\n"
     ]
    }
   ],
   "source": [
    "%matplotlib\n",
    "import matplotlib.pyplot as plt\n",
    "import scipy.stats as stats\n",
    "import seaborn as sns\n",
    "import numpy as np\n",
    "\n",
    "\n",
    "size = np.arange(0.75, 1, 0.05)\n",
    "# Histogram\n",
    "plt.figure(figsize=(10, 6))\n",
    "\n",
    "\n",
    "\n",
    "# Group 00\n",
    "plt.subplot(241)  # 2 rows, 2 columns, plot number 1\n",
    "sns.histplot(group00, kde=True, color='blue')\n",
    "plt.title('Histogram for LS Group')\n",
    "plt.xticks(size)\n",
    "plt.xlabel('$\\Delta L/L_0$', fontsize=12)\n",
    "plt.ylabel('Count', fontsize=12)\n",
    "\n",
    "# Group 01\n",
    "plt.subplot(242)  # 2 rows, 2 columns, plot number 2\n",
    "sns.histplot(group01, kde=True, color='red')\n",
    "plt.title('Histogram for LR Group')\n",
    "plt.xlabel('$\\Delta L/L_0$', fontsize=12)\n",
    "plt.xticks(size)\n",
    "plt.ylabel('Count', fontsize=12)\n",
    "\n",
    "# Group 10\n",
    "plt.subplot(243)  # 2 rows, 2 columns, plot number 2\n",
    "sns.histplot(group10, kde=True, color='green')\n",
    "plt.title('Histogram for OS Group')\n",
    "plt.xticks(size)\n",
    "plt.xlabel('$\\Delta L/L_0$', fontsize=14)\n",
    "plt.ylabel('Count', fontsize=12)\n",
    "\n",
    "# Group 11\n",
    "plt.subplot(244)  # 2 rows, 2 columns, plot number 2\n",
    "sns.histplot(group11, kde=True, color='orange')\n",
    "plt.title('Histogram for OR Group')\n",
    "plt.xticks(size)\n",
    "\n",
    "plt.xlabel('$\\Delta L/L_0$', fontsize=14)\n",
    "plt.ylabel('Count', fontsize=12)\n",
    "\n",
    "# Q-Q plot\n",
    "# Group 00\n",
    "plt.subplot(245)  # 2 rows, 2 columns, plot number 3\n",
    "stats.probplot(group00, plot=plt)\n",
    "plt.title('Q-Q plot for LS Group')\n",
    "plt.ylabel('$\\Delta L/L_0$', fontsize=12)\n",
    "plt.xlabel('Theoretical quantiles', fontsize=12)\n",
    "\n",
    "# Group 01\n",
    "plt.subplot(246)  # 2 rows, 2 columns, plot number 4\n",
    "stats.probplot(group01, plot=plt)\n",
    "plt.title('Q-Q plot for LR Group')\n",
    "plt.ylabel('$\\Delta L/L_0}$', fontsize=12)\n",
    "plt.xlabel('Theoretical quantiles', fontsize=12)\n",
    "\n",
    "# Group 10\n",
    "plt.subplot(247)  # 2 rows, 2 columns, plot number 4\n",
    "stats.probplot(group10, plot=plt)\n",
    "plt.title('Q-Q plot for OS Group')\n",
    "plt.ylabel('$\\Delta L/L_0$', fontsize=12)\n",
    "plt.xlabel('Theoretical quantiles', fontsize=12)\n",
    "\n",
    "# Group 11\n",
    "plt.subplot(248)  # 2 rows, 2 columns, plot number 4\n",
    "stats.probplot(group11, plot=plt)\n",
    "plt.title('Q-Q plot for OR Group')\n",
    "plt.ylabel('$\\Delta L/L_0$', fontsize=12)\n",
    "plt.xlabel('Theoretical quantiles', fontsize=12)\n",
    "\n",
    "plt.tight_layout()  # To prevent overlap of subplot labels\n",
    "plt.show()\n",
    "\n"
   ]
  },
  {
   "cell_type": "code",
   "execution_count": null,
   "id": "6f1e6980",
   "metadata": {},
   "outputs": [],
   "source": []
  }
 ],
 "metadata": {
  "kernelspec": {
   "display_name": "Python 3 (ipykernel)",
   "language": "python",
   "name": "python3"
  },
  "language_info": {
   "codemirror_mode": {
    "name": "ipython",
    "version": 3
   },
   "file_extension": ".py",
   "mimetype": "text/x-python",
   "name": "python",
   "nbconvert_exporter": "python",
   "pygments_lexer": "ipython3",
   "version": "3.9.12"
  }
 },
 "nbformat": 4,
 "nbformat_minor": 5
}
