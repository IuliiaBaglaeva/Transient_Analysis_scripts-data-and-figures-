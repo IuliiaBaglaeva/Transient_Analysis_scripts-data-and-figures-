{
 "cells": [
  {
   "cell_type": "code",
   "execution_count": 1,
   "id": "9eae84e6",
   "metadata": {},
   "outputs": [],
   "source": [
    "import pandas as pd\n",
    "import numpy as np"
   ]
  },
  {
   "cell_type": "code",
   "execution_count": 2,
   "id": "f362bd61",
   "metadata": {},
   "outputs": [
    {
     "name": "stdout",
     "output_type": "stream",
     "text": [
      "D:\\My dissertation\\obesity\\obesity_project\n"
     ]
    }
   ],
   "source": [
    "cd D:/My dissertation/obesity/obesity_project"
   ]
  },
  {
   "cell_type": "code",
   "execution_count": 3,
   "id": "55d07fd2",
   "metadata": {},
   "outputs": [],
   "source": [
    "import pandas as pd\n",
    "\n",
    "# Load the data\n",
    "filename = \"output_file_F\"\n",
    "data = pd.read_excel(f'{filename}.xlsx')\n",
    "\n",
    "# Replace '-' and ',' in column names\n",
    "data.columns = data.columns.str.replace('-', '')\n",
    "data.columns = data.columns.str.replace(',', '')\n",
    "data.columns = data.columns.str.replace('%', '')\n",
    "data.columns = data.columns.str.replace('id', '')\n",
    "data.columns = data.columns.str.replace('um', '')\n",
    "data.columns = data.columns.str.replace('ms', '')\n",
    "data.columns = data.columns.str.replace('AU', '')\n",
    "\n",
    "# Save the data back to Excel\n",
    "data.to_excel(f'{filename}_modified.xlsx', index=False)"
   ]
  },
  {
   "cell_type": "code",
   "execution_count": 9,
   "id": "12292b10",
   "metadata": {},
   "outputs": [],
   "source": [
    "import pandas as pd\n",
    "\n",
    "# Load the data\n",
    "filename = \"output_file_L\"\n",
    "data = pd.read_excel(f'{filename}.xlsx')\n",
    "\n",
    "# Replace '-' and ',' in column names\n",
    "data.columns = data.columns.str.replace('-', '')\n",
    "data.columns = data.columns.str.replace(',', '')\n",
    "data.columns = data.columns.str.replace('%', '')\n",
    "data.columns = data.columns.str.replace('id', '')\n",
    "data.columns = data.columns.str.replace('um', '')\n",
    "data.columns = data.columns.str.replace('ms', '')\n",
    "data.columns = data.columns.str.replace('um', '')\n",
    "\n",
    "# Save the data back to Excel\n",
    "data.to_excel(f'{filename}_modified.xlsx', index=False)"
   ]
  },
  {
   "cell_type": "code",
   "execution_count": null,
   "id": "787a834a",
   "metadata": {},
   "outputs": [],
   "source": []
  }
 ],
 "metadata": {
  "kernelspec": {
   "display_name": "Python 3 (ipykernel)",
   "language": "python",
   "name": "python3"
  },
  "language_info": {
   "codemirror_mode": {
    "name": "ipython",
    "version": 3
   },
   "file_extension": ".py",
   "mimetype": "text/x-python",
   "name": "python",
   "nbconvert_exporter": "python",
   "pygments_lexer": "ipython3",
   "version": "3.9.12"
  }
 },
 "nbformat": 4,
 "nbformat_minor": 5
}
