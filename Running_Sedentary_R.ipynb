{
 "cells": [
  {
   "cell_type": "markdown",
   "id": "54889f79",
   "metadata": {},
   "source": [
    "This is the code for Linear mixed model analysis in R"
   ]
  },
  {
   "cell_type": "code",
   "execution_count": 1,
   "id": "ed303526",
   "metadata": {},
   "outputs": [
    {
     "name": "stderr",
     "output_type": "stream",
     "text": [
      "Loading required package: lme4\n",
      "Loading required package: Matrix\n",
      "Registered S3 methods overwritten by 'ggplot2':\n",
      "  method         from \n",
      "  [.quosures     rlang\n",
      "  c.quosures     rlang\n",
      "  print.quosures rlang\n",
      "\n",
      "Attaching package: 'lmerTest'\n",
      "\n",
      "The following object is masked from 'package:lme4':\n",
      "\n",
      "    lmer\n",
      "\n",
      "The following object is masked from 'package:stats':\n",
      "\n",
      "    step\n",
      "\n",
      "Loading required package: readxl\n"
     ]
    }
   ],
   "source": [
    "#load the packages for analysis\n",
    "library(lmerTest)\n",
    "require(readxl)\n",
    "\n",
    "library(readxl)\n",
    "\n",
    "#library(MuMIn)"
   ]
  },
  {
   "cell_type": "code",
   "execution_count": 2,
   "id": "969f23de",
   "metadata": {},
   "outputs": [],
   "source": [
    "# This prevents scientific notation for p values unless they are very small.\n",
    "options(scipen=0)\n"
   ]
  },
  {
   "cell_type": "code",
   "execution_count": 78,
   "id": "c909bde1",
   "metadata": {},
   "outputs": [],
   "source": [
    "#paphway for the directory with our file\n",
    "my_directory <- file.path(\"D:/My dissertation/Running_sedentary_project/output_file_F_modified.xlsx\")"
   ]
  },
  {
   "cell_type": "code",
   "execution_count": 6,
   "id": "f13273c9",
   "metadata": {},
   "outputs": [],
   "source": [
    "setwd(\"D:/My dissertation/obesity/obesity_project\")"
   ]
  },
  {
   "cell_type": "code",
   "execution_count": 26,
   "id": "150098af",
   "metadata": {},
   "outputs": [],
   "source": [
    "#read the file with the data\n",
    "input_data <- readxl::read_excel(\"D:/My dissertation/Running_sedentary_project/output_file_L_modified.xlsx\")"
   ]
  },
  {
   "cell_type": "code",
   "execution_count": 27,
   "id": "bb16a564",
   "metadata": {},
   "outputs": [],
   "source": [
    "#identification of factors paramters\n",
    "input_data$Factor <- factor(input_data$Factor)\n",
    "#input_data$Type <- factor(input_data$Type)\n",
    "input_data$Animal_id <- factor(input_data$Animal)\n",
    "input_data$Cell_id <- factor(input_data$Cell)"
   ]
  },
  {
   "cell_type": "code",
   "execution_count": 28,
   "id": "c477ccea",
   "metadata": {},
   "outputs": [
    {
     "data": {
      "text/html": [
       "<ol class=list-inline>\n",
       "\t<li>'Factor'</li>\n",
       "\t<li>'Animal'</li>\n",
       "\t<li>'Cell'</li>\n",
       "\t<li>'Transient'</li>\n",
       "\t<li>'Baseline'</li>\n",
       "\t<li>'Amplitude'</li>\n",
       "\t<li>'t0'</li>\n",
       "\t<li>'delta t0'</li>\n",
       "\t<li>'Delay'</li>\n",
       "\t<li>'r_10'</li>\n",
       "\t<li>'r_20'</li>\n",
       "\t<li>'r_50'</li>\n",
       "\t<li>'r_80'</li>\n",
       "\t<li>'r_90'</li>\n",
       "\t<li>'TTP'</li>\n",
       "\t<li>'d_10'</li>\n",
       "\t<li>'d_20'</li>\n",
       "\t<li>'d_50'</li>\n",
       "\t<li>'d_80'</li>\n",
       "\t<li>'d_90'</li>\n",
       "\t<li>'t_2080'</li>\n",
       "\t<li>'t_1090'</li>\n",
       "\t<li>'FDHM'</li>\n",
       "\t<li>'t_8020'</li>\n",
       "\t<li>'t_9010'</li>\n",
       "\t<li>'dLL'</li>\n",
       "\t<li>'Animal_id'</li>\n",
       "\t<li>'Cell_id'</li>\n",
       "</ol>\n"
      ],
      "text/latex": [
       "\\begin{enumerate*}\n",
       "\\item 'Factor'\n",
       "\\item 'Animal'\n",
       "\\item 'Cell'\n",
       "\\item 'Transient'\n",
       "\\item 'Baseline'\n",
       "\\item 'Amplitude'\n",
       "\\item 't0'\n",
       "\\item 'delta t0'\n",
       "\\item 'Delay'\n",
       "\\item 'r\\_10'\n",
       "\\item 'r\\_20'\n",
       "\\item 'r\\_50'\n",
       "\\item 'r\\_80'\n",
       "\\item 'r\\_90'\n",
       "\\item 'TTP'\n",
       "\\item 'd\\_10'\n",
       "\\item 'd\\_20'\n",
       "\\item 'd\\_50'\n",
       "\\item 'd\\_80'\n",
       "\\item 'd\\_90'\n",
       "\\item 't\\_2080'\n",
       "\\item 't\\_1090'\n",
       "\\item 'FDHM'\n",
       "\\item 't\\_8020'\n",
       "\\item 't\\_9010'\n",
       "\\item 'dLL'\n",
       "\\item 'Animal\\_id'\n",
       "\\item 'Cell\\_id'\n",
       "\\end{enumerate*}\n"
      ],
      "text/markdown": [
       "1. 'Factor'\n",
       "2. 'Animal'\n",
       "3. 'Cell'\n",
       "4. 'Transient'\n",
       "5. 'Baseline'\n",
       "6. 'Amplitude'\n",
       "7. 't0'\n",
       "8. 'delta t0'\n",
       "9. 'Delay'\n",
       "10. 'r_10'\n",
       "11. 'r_20'\n",
       "12. 'r_50'\n",
       "13. 'r_80'\n",
       "14. 'r_90'\n",
       "15. 'TTP'\n",
       "16. 'd_10'\n",
       "17. 'd_20'\n",
       "18. 'd_50'\n",
       "19. 'd_80'\n",
       "20. 'd_90'\n",
       "21. 't_2080'\n",
       "22. 't_1090'\n",
       "23. 'FDHM'\n",
       "24. 't_8020'\n",
       "25. 't_9010'\n",
       "26. 'dLL'\n",
       "27. 'Animal_id'\n",
       "28. 'Cell_id'\n",
       "\n",
       "\n"
      ],
      "text/plain": [
       " [1] \"Factor\"    \"Animal\"    \"Cell\"      \"Transient\" \"Baseline\"  \"Amplitude\"\n",
       " [7] \"t0\"        \"delta t0\"  \"Delay\"     \"r_10\"      \"r_20\"      \"r_50\"     \n",
       "[13] \"r_80\"      \"r_90\"      \"TTP\"       \"d_10\"      \"d_20\"      \"d_50\"     \n",
       "[19] \"d_80\"      \"d_90\"      \"t_2080\"    \"t_1090\"    \"FDHM\"      \"t_8020\"   \n",
       "[25] \"t_9010\"    \"dLL\"       \"Animal_id\" \"Cell_id\"  "
      ]
     },
     "metadata": {},
     "output_type": "display_data"
    }
   ],
   "source": [
    "#names of the columns\n",
    "colnames(input_data)"
   ]
  },
  {
   "cell_type": "code",
   "execution_count": 46,
   "id": "2657f224",
   "metadata": {
    "scrolled": true
   },
   "outputs": [
    {
     "data": {
      "text/plain": [
       "Linear mixed model fit by REML. t-tests use Kenward-Roger's method [\n",
       "lmerModLmerTest]\n",
       "Formula: t_9010 ~ Factor + (1 | Animal_id/Cell_id)\n",
       "   Data: input_data\n",
       "\n",
       "REML criterion at convergence: 13829.1\n",
       "\n",
       "Scaled residuals: \n",
       "    Min      1Q  Median      3Q     Max \n",
       "-4.0596 -0.2860 -0.0241  0.2275 14.9250 \n",
       "\n",
       "Random effects:\n",
       " Groups            Name        Variance Std.Dev.\n",
       " Cell_id:Animal_id (Intercept) 1830.0   42.78   \n",
       " Animal_id         (Intercept)  108.2   10.40   \n",
       " Residual                       472.8   21.74   \n",
       "Number of obs: 1477, groups:  Cell_id:Animal_id, 149; Animal_id, 24\n",
       "\n",
       "Fixed effects:\n",
       "            Estimate Std. Error      df t value Pr(>|t|)    \n",
       "(Intercept)  149.000      6.401  16.005  23.278 9.05e-14 ***\n",
       "Factor1       -0.467      8.677  17.041  -0.054    0.958    \n",
       "---\n",
       "Signif. codes:  0 '***' 0.001 '**' 0.01 '*' 0.05 '.' 0.1 ' ' 1\n",
       "\n",
       "Correlation of Fixed Effects:\n",
       "        (Intr)\n",
       "Factor1 -0.741"
      ]
     },
     "metadata": {},
     "output_type": "display_data"
    }
   ],
   "source": [
    "model <- lmer(parameter ~ Factor + (1|Animal_id/Cell_id), data = input_data)\n",
    "summary(model, ddf = \"Kenward-Roger\")"
   ]
  },
  {
   "cell_type": "code",
   "execution_count": 75,
   "id": "bb5b9627",
   "metadata": {},
   "outputs": [
    {
     "ename": "ERROR",
     "evalue": "Error in parse(text = x, srcfile = src): <text>:1:46: unexpected symbol\n1: fixed_effects <- summary(model)$coefficients write.csv\n                                                 ^\n",
     "output_type": "error",
     "traceback": [
      "Error in parse(text = x, srcfile = src): <text>:1:46: unexpected symbol\n1: fixed_effects <- summary(model)$coefficients write.csv\n                                                 ^\nTraceback:\n"
     ]
    }
   ],
   "source": [
    "fixed_effects <- summary(model)$coefficients write.csv(fixed_effects, \"fixed_effects.csv\")\n",
    "\n",
    "random_effects <- ranef(model)write.csv(random_effects$Animal_id, \"random_effects_Animal_id.csv\")\n",
    "\n",
    "random_effects <- ranef(model)write.csv(random_effects$Animal_id, \"random_effects_Animal_id_Cell_id.csv\")\n",
    "\n",
    "residuals_vals <- residuals(model) write.csv(residuals_vals, \"residuals.csv\")\n",
    "\n",
    "cor_mat <- getME(model, \"beta\")write.csv(cor_mat, \"correlation_matrix.csv\")\n",
    "\n",
    "fitted_vals <- fitted(model)write.csv(fitted_vals,\"fitted_values.csv\" )"
   ]
  },
  {
   "cell_type": "code",
   "execution_count": 10,
   "id": "6fd46f1a",
   "metadata": {},
   "outputs": [
    {
     "data": {
      "text/plain": [
       "Linear mixed model fit by REML. t-tests use Satterthwaite's method [\n",
       "lmerModLmerTest]\n",
       "Formula: r_20 ~ Factor + (1 | Animal_id/Cell_id)\n",
       "   Data: input_data\n",
       "\n",
       "REML criterion at convergence: 5399.7\n",
       "\n",
       "Scaled residuals: \n",
       "    Min      1Q  Median      3Q     Max \n",
       "-3.2539 -0.6363 -0.0794  0.5793  5.0276 \n",
       "\n",
       "Random effects:\n",
       " Groups            Name        Variance Std.Dev.\n",
       " Cell_id:Animal_id (Intercept) 3.1152   1.7650  \n",
       " Animal_id         (Intercept) 0.2104   0.4587  \n",
       " Residual                      1.6163   1.2713  \n",
       "Number of obs: 1490, groups:  Cell_id:Animal_id, 149; Animal_id, 24\n",
       "\n",
       "Fixed effects:\n",
       "            Estimate Std. Error      df t value Pr(>|t|)    \n",
       "(Intercept)   5.8717     0.2706 17.2511  21.695 5.81e-14 ***\n",
       "Factor1      -0.7615     0.3652 18.3901  -2.085   0.0513 .  \n",
       "---\n",
       "Signif. codes:  0 '***' 0.001 '**' 0.01 '*' 0.05 '.' 0.1 ' ' 1\n",
       "\n",
       "Correlation of Fixed Effects:\n",
       "        (Intr)\n",
       "Factor1 -0.741"
      ]
     },
     "metadata": {},
     "output_type": "display_data"
    }
   ],
   "source": [
    "model <- lmer(parameter ~ Factor + (1|Animal_id/Cell_id), data = input_data)\n",
    "summary(model)"
   ]
  },
  {
   "cell_type": "code",
   "execution_count": 44,
   "id": "e2cb7ab9",
   "metadata": {},
   "outputs": [
    {
     "data": {
      "text/plain": [
       "Linear mixed model fit by REML. t-tests use Kenward-Roger's method [\n",
       "lmerModLmerTest]\n",
       "Formula: t_8020 ~ Type * Factor + (1 | Animal_id/Cell_id)\n",
       "   Data: input_data\n",
       "\n",
       "REML criterion at convergence: 17565.7\n",
       "\n",
       "Scaled residuals: \n",
       "    Min      1Q  Median      3Q     Max \n",
       "-4.4213 -0.5632 -0.0061  0.5387  5.7016 \n",
       "\n",
       "Random effects:\n",
       " Groups            Name        Variance Std.Dev.\n",
       " Cell_id:Animal_id (Intercept) 1102.85  33.209  \n",
       " Animal_id         (Intercept)  438.62  20.943  \n",
       " Residual                        35.39   5.949  \n",
       "Number of obs: 2516, groups:  Cell_id:Animal_id, 252; Animal_id, 20\n",
       "\n",
       "Fixed effects:\n",
       "              Estimate Std. Error       df t value Pr(>|t|)    \n",
       "(Intercept)   209.0696    10.2864  15.3413  20.325 1.65e-12 ***\n",
       "Type1         -14.2068    14.0718  15.9956  -1.010    0.328    \n",
       "Factor1        -8.0429    14.5513  15.4585  -0.553    0.588    \n",
       "Type1:Factor1  -0.4512    20.9013  15.7675  -0.022    0.983    \n",
       "---\n",
       "Signif. codes:  0 '***' 0.001 '**' 0.01 '*' 0.05 '.' 0.1 ' ' 1\n",
       "\n",
       "Correlation of Fixed Effects:\n",
       "            (Intr) Type1  Factr1\n",
       "Type1       -0.731              \n",
       "Factor1     -0.707  0.517       \n",
       "Type1:Fctr1  0.492 -0.673 -0.696"
      ]
     },
     "metadata": {},
     "output_type": "display_data"
    }
   ],
   "source": [
    "model <- lmer(parameter ~ Type * Factor + (1|Animal_id/Cell_id), data = input_data)\n",
    "summary(model, ddf = \"Kenward-Roger\")"
   ]
  },
  {
   "cell_type": "markdown",
   "id": "a9c8afca",
   "metadata": {},
   "source": [
    "fixed_effects <- summary(model)$coefficients\n",
    "write.csv(fixed_effects, \"fixed_effects.csv\")\n",
    "\n",
    "random_effects <- ranef(model)\n",
    "write.csv(random_effects$Animal_id, \"random_effects_Animal_id.csv\")\n",
    "\n",
    "random_effects <- ranef(model)\n",
    "write.csv(random_effects$Animal_id, \"random_effects_Animal_id_Cell_id.csv\")\n",
    "\n",
    "residuals_vals <- residuals(model)\n",
    "write.csv(residuals_vals, \"residuals.csv\")\n",
    "\n",
    "cor_mat <- getME(model, \"beta\")\n",
    "write.csv(cor_mat, \"correlation_matrix.csv\")\n",
    "\n",
    "fitted_vals <- fitted(model)\n",
    "write.csv(fitted_vals,\"fitted_values.csv\" )\n",
    "\n",
    "\n"
   ]
  },
  {
   "cell_type": "markdown",
   "id": "bee3715a",
   "metadata": {},
   "source": [
    "# colnames(input_data)"
   ]
  },
  {
   "cell_type": "code",
   "execution_count": 28,
   "id": "39ef105a",
   "metadata": {},
   "outputs": [
    {
     "name": "stderr",
     "output_type": "stream",
     "text": [
      "Warning message in RColorBrewer::brewer.pal(n, pal):\n",
      "\"n too large, allowed maximum for palette Set1 is 9\n",
      "Returning the palette you asked for with that many colors\n",
      "\"\n",
      "Warning message:\n",
      "\"\u001b[1m\u001b[22mRemoved 1486 rows containing missing values (`geom_point()`).\"\n",
      "Warning message:\n",
      "\"\u001b[1m\u001b[22mRemoved 1486 rows containing missing values (`geom_line()`).\"\n"
     ]
    },
    {
     "data": {
      "image/png": "[encoded data removed]",
      "text/plain": [
       "plot without title"
      ]
     },
     "metadata": {
      "image/png": {
       "height": 420,
       "width": 420
      }
     },
     "output_type": "display_data"
    }
   ],
   "source": [
    "# Load required libraries\n",
    "# library(lme4) # for lmer, if you haven't already loaded it\n",
    "library(ggplot2)\n",
    "library(readxl)\n",
    "library(RColorBrewer) # for the scale_color_brewer()\n",
    "\n",
    "# Read in the data\n",
    "input_data <- readxl::read_excel(\"D:/My dissertation/obesity/obesity_project/output_file_F_modified.xlsx\")\n",
    "input_data$Animal <- as.factor(input_data$Animal)\n",
    "\n",
    "# Add the fitted values to your dataset (assuming you've already fitted the model)\n",
    "input_data$fitted_vals <- fitted(model)\n",
    "\n",
    "# Plot\n",
    "p <- ggplot(input_data, aes(x = Type, y = dFF, color = Animal)) + \n",
    "  geom_point(aes(y = dFF), size = 3) +  # Original data points\n",
    "  geom_line(aes(y = fitted_vals, group = Animal)) + # Fitted values as lines and group by Animal to draw separate lines\n",
    "  labs(title = \"Original Data with Fitted Lines\", \n",
    "        x = \"Factor\", y = \"dFF\") +\n",
    "  theme_minimal() + \n",
    "  scale_color_brewer(palette=\"Set1\") # Use a color palette that can handle multiple categories. Adjust as needed.\n",
    "\n",
    "print(p)\n"
   ]
  },
  {
   "cell_type": "code",
   "execution_count": 37,
   "id": "e81f635e",
   "metadata": {},
   "outputs": [
    {
     "data": {
      "text/plain": [
       "Linear mixed model fit by REML. t-tests use Satterthwaite's method [\n",
       "lmerModLmerTest]\n",
       "Formula: t_2080 ~ Type + Factor + (1 | Animal_id)\n",
       "   Data: input_data\n",
       "\n",
       "REML criterion at convergence: 13413.4\n",
       "\n",
       "Scaled residuals: \n",
       "    Min      1Q  Median      3Q     Max \n",
       "-2.2706 -0.6827 -0.1625  0.5313  6.9746 \n",
       "\n",
       "Random effects:\n",
       " Groups    Name        Variance Std.Dev.\n",
       " Animal_id (Intercept) 0.977    0.9884  \n",
       " Residual              8.645    2.9402  \n",
       "Number of obs: 2675, groups:  Animal_id, 20\n",
       "\n",
       "Fixed effects:\n",
       "            Estimate Std. Error      df t value           Pr(>|t|)    \n",
       "(Intercept)  10.4302     0.3970 16.5587  26.275 0.0000000000000062 ***\n",
       "Type1        -0.3121     0.4600 16.6841  -0.678              0.507    \n",
       "Factor1       0.4540     0.4621 16.6548   0.982              0.340    \n",
       "---\n",
       "Signif. codes:  0 '***' 0.001 '**' 0.01 '*' 0.05 '.' 0.1 ' ' 1\n",
       "\n",
       "Correlation of Fixed Effects:\n",
       "        (Intr) Type1 \n",
       "Type1   -0.627       \n",
       "Factor1 -0.582  0.096"
      ]
     },
     "metadata": {},
     "output_type": "display_data"
    }
   ],
   "source": [
    "#Linear mixed model fit by REML results\n",
    "summary(model)\n"
   ]
  },
  {
   "cell_type": "code",
   "execution_count": 70,
   "id": "aa8dbe80",
   "metadata": {},
   "outputs": [],
   "source": [
    "#ANOVA \n",
    "modelaov <- aov(dFF ~ Factor, data=input_data)"
   ]
  },
  {
   "cell_type": "code",
   "execution_count": 71,
   "id": "7b9fcfd6",
   "metadata": {},
   "outputs": [
    {
     "data": {
      "text/plain": [
       "              Df Sum Sq Mean Sq F value Pr(>F)\n",
       "Factor         1      0  0.3476   0.239  0.625\n",
       "Residuals   2534   3692  1.4569               "
      ]
     },
     "metadata": {},
     "output_type": "display_data"
    }
   ],
   "source": [
    "#ANOVA results\n",
    "summary(modelaov)"
   ]
  },
  {
   "cell_type": "code",
   "execution_count": 124,
   "id": "e6a1f8ad",
   "metadata": {},
   "outputs": [],
   "source": [
    "# Fit a NON-Hierarchical model (equivalent to a t-test)\n",
    "NON_hierarchical_model <- glm(FDHM ~ Factor, data=input_data)"
   ]
  },
  {
   "cell_type": "code",
   "execution_count": 125,
   "id": "a2dc92ca",
   "metadata": {},
   "outputs": [
    {
     "data": {
      "text/plain": [
       "\n",
       "Call:\n",
       "glm(formula = FDHM ~ Factor, data = input_data)\n",
       "\n",
       "Deviance Residuals: \n",
       "    Min       1Q   Median       3Q      Max  \n",
       "-77.800  -20.143    0.116   19.793   61.025  \n",
       "\n",
       "Coefficients:\n",
       "            Estimate Std. Error t value            Pr(>|t|)    \n",
       "(Intercept) 200.7659     0.5551 361.659 <0.0000000000000002 ***\n",
       "Factor1       6.3622     0.7291   8.726 <0.0000000000000002 ***\n",
       "---\n",
       "Signif. codes:  0 '***' 0.001 '**' 0.01 '*' 0.05 '.' 0.1 ' ' 1\n",
       "\n",
       "(Dispersion parameter for gaussian family taken to be 671.4892)\n",
       "\n",
       "    Null deviance: 3531463  on 5184  degrees of freedom\n",
       "Residual deviance: 3480329  on 5183  degrees of freedom\n",
       "AIC: 48470\n",
       "\n",
       "Number of Fisher Scoring iterations: 2\n"
      ]
     },
     "metadata": {},
     "output_type": "display_data"
    }
   ],
   "source": [
    "#results\n",
    "summary(NON_hierarchical_model)"
   ]
  },
  {
   "cell_type": "code",
   "execution_count": 32,
   "id": "8dd2d6db",
   "metadata": {},
   "outputs": [
    {
     "data": {
      "image/png": "[encoded data removed]",
      "text/plain": [
       "Plot with title \"Histogram of subset(input_data, Factor == 1)$FDHM\""
      ]
     },
     "metadata": {
      "image/png": {
       "height": 420,
       "width": 420
      }
     },
     "output_type": "display_data"
    }
   ],
   "source": [
    "#histogram of parameters in running data\n",
    "hist(subset(input_data, Factor == 1)$FDHM)"
   ]
  },
  {
   "cell_type": "code",
   "execution_count": 33,
   "id": "f6de574e",
   "metadata": {},
   "outputs": [
    {
     "data": {
      "image/png": "[encoded data removed]",
      "text/plain": [
       "Plot with title \"Histogram of subset(input_data, Factor == 0)$FDHM\""
      ]
     },
     "metadata": {
      "image/png": {
       "height": 420,
       "width": 420
      }
     },
     "output_type": "display_data"
    }
   ],
   "source": [
    "#histogram of parameters in sedentary\n",
    "hist(subset(input_data, Factor == 0)$FDHM)"
   ]
  },
  {
   "cell_type": "code",
   "execution_count": 34,
   "id": "8899f656",
   "metadata": {},
   "outputs": [
    {
     "name": "stderr",
     "output_type": "stream",
     "text": [
      "Warning message:\n",
      "\"\u001b[1m\u001b[22mThe dot-dot notation (`..density..`) was deprecated in ggplot2 3.4.0.\n",
      "\u001b[36mi\u001b[39m Please use `after_stat(density)` instead.\"\n",
      "\u001b[1m\u001b[22m`stat_bin()` using `bins = 30`. Pick better value with `binwidth`.\n",
      "\u001b[1m\u001b[22m`stat_bin()` using `bins = 30`. Pick better value with `binwidth`.\n"
     ]
    },
    {
     "data": {
      "image/png": "[encoded data removed]",
      "text/plain": [
       "plot without title"
      ]
     },
     "metadata": {
      "image/png": {
       "height": 420,
       "width": 420
      }
     },
     "output_type": "display_data"
    },
    {
     "data": {
      "image/png": "[encoded data removed]",
      "text/plain": [
       "plot without title"
      ]
     },
     "metadata": {
      "image/png": {
       "height": 420,
       "width": 420
      }
     },
     "output_type": "display_data"
    }
   ],
   "source": [
    "\n",
    "library(ggplot2)\n",
    "filtered_data <- subset(input_data, Factor == 0)\n",
    "filtered_data2 <- subset(input_data, Factor == 1)\n",
    "\n",
    "ggplot(filtered_data, aes(x = dFF,y = ..density..)) +\n",
    "  geom_histogram()\n",
    "ggplot(filtered_data2, aes(x = dFF,y = ..density..)) +\n",
    "  geom_histogram()\n"
   ]
  },
  {
   "cell_type": "code",
   "execution_count": 128,
   "id": "5dec27d3",
   "metadata": {},
   "outputs": [
    {
     "data": {
      "text/html": [
       "200.765852912078"
      ],
      "text/latex": [
       "200.765852912078"
      ],
      "text/markdown": [
       "200.765852912078"
      ],
      "text/plain": [
       "[1] 200.7659"
      ]
     },
     "metadata": {},
     "output_type": "display_data"
    }
   ],
   "source": [
    "#mean value of parameters\n",
    "mean(filtered_data$FDHM)"
   ]
  },
  {
   "cell_type": "code",
   "execution_count": 129,
   "id": "dafaf86e",
   "metadata": {},
   "outputs": [
    {
     "data": {
      "text/html": [
       "207.128062907248"
      ],
      "text/latex": [
       "207.128062907248"
      ],
      "text/markdown": [
       "207.128062907248"
      ],
      "text/plain": [
       "[1] 207.1281"
      ]
     },
     "metadata": {},
     "output_type": "display_data"
    }
   ],
   "source": [
    "mean(filtered_data2$FDHM)"
   ]
  },
  {
   "cell_type": "code",
   "execution_count": 84,
   "id": "077dfb6e",
   "metadata": {},
   "outputs": [
    {
     "name": "stdout",
     "output_type": "stream",
     "text": [
      "\n",
      "\tKruskal-Wallis rank sum test\n",
      "\n",
      "data:  dFF by Factor\n",
      "Kruskal-Wallis chi-squared = 1.9628, df = 1, p-value = 0.1612\n",
      "\n"
     ]
    }
   ],
   "source": [
    "# Subset the data\n",
    "sedentary <- subset(input_data, Type == 0)\n",
    "running <- subset(input_data, Type == 1)\n",
    "res <- kruskal.test(dFF ~ Factor, data = input_data)\n",
    "print(res)"
   ]
  },
  {
   "cell_type": "code",
   "execution_count": 82,
   "id": "aa118bdc",
   "metadata": {},
   "outputs": [
    {
     "ename": "ERROR",
     "evalue": "Error in model.frame.default(data = data, formula = FDHM ~ Factor): 'data' must be a data.frame, environment, or list\n",
     "output_type": "error",
     "traceback": [
      "Error in model.frame.default(data = data, formula = FDHM ~ Factor): 'data' must be a data.frame, environment, or list\nTraceback:\n",
      "1. stripchart(FDHM ~ Factor, data = data, vertical = TRUE, method = \"jitter\", \n .     pch = 20, add = TRUE, col = \"black\")",
      "2. stripchart.formula(FDHM ~ Factor, data = data, vertical = TRUE, \n .     method = \"jitter\", pch = 20, add = TRUE, col = \"black\")",
      "3. eval(m, parent.frame())",
      "4. eval(m, parent.frame())",
      "5. stats::model.frame(data = data, formula = FDHM ~ Factor)",
      "6. model.frame.default(data = data, formula = FDHM ~ Factor)",
      "7. stop(\"'data' must be a data.frame, environment, or list\")"
     ]
    },
    {
     "data": {
      "image/png": "[encoded data removed]",
      "text/plain": [
       "Plot with title \"Kruskal-Wallis Test\""
      ]
     },
     "metadata": {
      "image/png": {
       "height": 420,
       "width": 420
      }
     },
     "output_type": "display_data"
    }
   ],
   "source": [
    "boxplot(d_10 ~ Factor, data = input_data, main = \"Kruskal-Wallis Test\",\n",
    "        xlab = \"Factor\", ylab = \"d10\", notch = TRUE, varwidth = TRUE, col = c(\"lightblue\",\"pink\"))\n",
    "stripchart(FDHM ~ Factor, data = data, vertical = TRUE, method = \"jitter\", \n",
    "           pch = 20, add = TRUE, col = 'black')"
   ]
  },
  {
   "cell_type": "code",
   "execution_count": null,
   "id": "59b40a4a",
   "metadata": {},
   "outputs": [],
   "source": []
  }
 ],
 "metadata": {
  "kernelspec": {
   "display_name": "R",
   "language": "R",
   "name": "ir"
  },
  "language_info": {
   "codemirror_mode": "r",
   "file_extension": ".r",
   "mimetype": "text/x-r-source",
   "name": "R",
   "pygments_lexer": "r",
   "version": "3.6.1"
  }
 },
 "nbformat": 4,
 "nbformat_minor": 5
}
