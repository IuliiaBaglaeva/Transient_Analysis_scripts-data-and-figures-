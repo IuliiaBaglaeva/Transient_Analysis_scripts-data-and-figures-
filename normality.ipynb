{
 "cells": [
  {
   "cell_type": "code",
   "execution_count": 1,
   "id": "99029786",
   "metadata": {},
   "outputs": [],
   "source": [
    "import pandas as pd\n",
    "from scipy.stats import shapiro\n",
    "from scipy.stats import normaltest"
   ]
  },
  {
   "cell_type": "code",
   "execution_count": 2,
   "id": "f4d03c92",
   "metadata": {},
   "outputs": [
    {
     "name": "stdout",
     "output_type": "stream",
     "text": [
      "D:\\My dissertation\\Running_sedentary_project\n"
     ]
    }
   ],
   "source": [
    "cd D:\\\\My dissertation\\\\Running_sedentary_project"
   ]
  },
  {
   "cell_type": "code",
   "execution_count": 54,
   "id": "6c700e07",
   "metadata": {},
   "outputs": [],
   "source": [
    "df = pd.read_excel('output_file_F_modified.xlsx')"
   ]
  },
  {
   "cell_type": "code",
   "execution_count": 95,
   "id": "0bc042dc",
   "metadata": {},
   "outputs": [],
   "source": [
    "df = pd.read_excel('output_file_L_modified.xlsx')"
   ]
  },
  {
   "cell_type": "code",
   "execution_count": null,
   "id": "9316c3ab",
   "metadata": {},
   "outputs": [],
   "source": []
  },
  {
   "cell_type": "code",
   "execution_count": 4,
   "id": "91a9e250",
   "metadata": {},
   "outputs": [
    {
     "name": "stdout",
     "output_type": "stream",
     "text": [
      "Index(['Factor', 'Animal ', 'Cell ', 'Transient ', 'Baseline ', 'Amplitude ',\n",
      "       't0 ', 't0_L ', 'delta t0 ', 'Delay ', 'r_10 ', 'r_20 ', 'r_50 ',\n",
      "       'r_80 ', 'r_90 ', 'TTP ', 'd_10 ', 'd_20 ', 'd_50 ', 'd_80 ', 'd_90 ',\n",
      "       't_2080 ', 't_1090 ', 'FDHM ', 't_8020 ', 't_9010 ', 'dFF'],\n",
      "      dtype='object')\n"
     ]
    }
   ],
   "source": [
    "print(df.columns)"
   ]
  },
  {
   "cell_type": "code",
   "execution_count": 129,
   "id": "5bbb2b5a",
   "metadata": {},
   "outputs": [],
   "source": [
    "par = 't_1090 '\n",
    "group0 = df[df['Factor'] == 0][par]\n",
    "group1 = df[df['Factor'] == 1][par]"
   ]
  },
  {
   "cell_type": "code",
   "execution_count": null,
   "id": "ddd2d1c3",
   "metadata": {},
   "outputs": [],
   "source": [
    "$\\Delta L/L_0}$\n",
    "$\\Delta L/L_0}$"
   ]
  },
  {
   "cell_type": "code",
   "execution_count": 39,
   "id": "a10f7cfe",
   "metadata": {},
   "outputs": [],
   "source": [
    "group0 = 1+df[df['Factor'] == 0]['dLL']\n",
    "group1 = 1+df[df['Factor'] == 1]['dLL']"
   ]
  },
  {
   "cell_type": "code",
   "execution_count": 108,
   "id": "abdf4bfb",
   "metadata": {},
   "outputs": [
    {
     "name": "stdout",
     "output_type": "stream",
     "text": [
      "Using matplotlib backend: QtAgg\n"
     ]
    }
   ],
   "source": [
    "#Decay\n",
    "%matplotlib\n",
    "import matplotlib.pyplot as plt\n",
    "import scipy.stats as stats\n",
    "import seaborn as sns\n",
    "import numpy as np\n",
    "\n",
    "size = np.arange(40, 540, 90)\n",
    "plt.figure(figsize=(10,6))\n",
    "\n",
    "# Определение binwidth и bins\n",
    "binwidth = 33\n",
    "bins = np.arange(40, 540 + binwidth, binwidth)\n",
    "\n",
    "# Гистограмма и KDE для Group 0 (Sedentary Group)\n",
    "sns.histplot(group0, bins=bins, kde=True, color='blue', label='Sedentary Group', alpha=0.5, stat='probability')\n",
    "\n",
    "# Гистограмма и KDE для Group 1 (Running Group)\n",
    "sns.histplot(group1, bins=bins, kde=True, color='red', label='Running Group', alpha=0.5, stat='probability')\n",
    "\n",
    "# Настройка заголовков, меток и легенды\n",
    "plt.xticks(size)\n",
    "plt.yticks(np.arange(0,0.45,0.1))\n",
    "plt.xlabel('90-10 % Decay time, ms', fontsize=24)\n",
    "plt.ylabel('Fraction', fontsize=28)\n",
    "plt.xticks(fontsize=24)  # Adjust the fontsize as needed\n",
    "plt.yticks(fontsize=24)  # Adjust the fontsize as needed\n",
    "plt.legend(fontsize=20)\n",
    "plt.tight_layout()\n",
    "plt.show()\n"
   ]
  },
  {
   "cell_type": "code",
   "execution_count": 120,
   "id": "3c100ff0",
   "metadata": {},
   "outputs": [
    {
     "name": "stdout",
     "output_type": "stream",
     "text": [
      "Using matplotlib backend: QtAgg\n"
     ]
    }
   ],
   "source": [
    "#FDHM\n",
    "%matplotlib\n",
    "import matplotlib.pyplot as plt\n",
    "import scipy.stats as stats\n",
    "import seaborn as sns\n",
    "import numpy as np\n",
    "\n",
    "size = np.arange(130, 410, 55)\n",
    "plt.figure(figsize=(10,6))\n",
    "\n",
    "# Определение binwidth и bins\n",
    "binwidth = 35\n",
    "bins = np.arange(130, 410 + binwidth, binwidth)\n",
    "\n",
    "# Гистограмма и KDE для Group 0 (Sedentary Group)\n",
    "sns.histplot(group0, bins=bins, kde=True, color='blue', label='Sedentary Group', alpha=0.5, stat='probability')\n",
    "\n",
    "# Гистограмма и KDE для Group 1 (Running Group)\n",
    "sns.histplot(group1, bins=bins, kde=True, color='red', label='Running Group', alpha=0.5, stat='probability')\n",
    "\n",
    "# Настройка заголовков, меток и легенды\n",
    "plt.xticks(size)\n",
    "plt.yticks(np.arange(0,0.45,0.1))\n",
    "plt.xlabel('FDHM, ms', fontsize=24)\n",
    "plt.ylabel('Fraction', fontsize=28)\n",
    "plt.xticks(fontsize=24)  # Adjust the fontsize as needed\n",
    "plt.yticks(fontsize=24)  # Adjust the fontsize as needed\n",
    "plt.legend(fontsize=20)\n",
    "plt.tight_layout()\n",
    "plt.show()\n"
   ]
  },
  {
   "cell_type": "code",
   "execution_count": 128,
   "id": "5b83285c",
   "metadata": {},
   "outputs": [
    {
     "name": "stdout",
     "output_type": "stream",
     "text": [
      "Using matplotlib backend: QtAgg\n"
     ]
    }
   ],
   "source": [
    "#TTP\n",
    "%matplotlib\n",
    "import matplotlib.pyplot as plt\n",
    "import scipy.stats as stats\n",
    "import seaborn as sns\n",
    "import numpy as np\n",
    "\n",
    "size = np.arange(100, 300, 35)\n",
    "plt.figure(figsize=(10,6))\n",
    "\n",
    "# Определение binwidth и bins\n",
    "binwidth = 20\n",
    "bins = np.arange(100, 300 + binwidth, binwidth)\n",
    "\n",
    "# Гистограмма и KDE для Group 0 (Sedentary Group)\n",
    "sns.histplot(group0, bins=bins, kde=True, color='blue', label='Sedentary Group', alpha=0.5, stat='probability')\n",
    "\n",
    "# Гистограмма и KDE для Group 1 (Running Group)\n",
    "sns.histplot(group1, bins=bins, kde=True, color='red', label='Running Group', alpha=0.5, stat='probability')\n",
    "\n",
    "# Настройка заголовков, меток и легенды\n",
    "plt.xticks(size)\n",
    "plt.yticks(np.arange(0,0.45,0.1))\n",
    "plt.xlabel('Time-to-peak, ms', fontsize=24)\n",
    "plt.ylabel('Fraction', fontsize=28)\n",
    "plt.xticks(fontsize=24)  # Adjust the fontsize as needed\n",
    "plt.yticks(fontsize=24)  # Adjust the fontsize as needed\n",
    "plt.legend(fontsize=20)\n",
    "plt.tight_layout()\n",
    "plt.show()\n"
   ]
  },
  {
   "cell_type": "code",
   "execution_count": 172,
   "id": "62984492",
   "metadata": {},
   "outputs": [
    {
     "name": "stdout",
     "output_type": "stream",
     "text": [
      "Using matplotlib backend: QtAgg\n"
     ]
    }
   ],
   "source": [
    "#rise \n",
    "%matplotlib\n",
    "import matplotlib.pyplot as plt\n",
    "import scipy.stats as stats\n",
    "import seaborn as sns\n",
    "import numpy as np\n",
    "\n",
    "size = np.arange(60, 151, 15)\n",
    "plt.figure(figsize=(10,6))\n",
    "\n",
    "# Определение binwidth и bins\n",
    "binwidth = 11\n",
    "bins = np.arange(55, 150 + binwidth, binwidth)\n",
    "\n",
    "# Гистограмма и KDE для Group 0 (Sedentary Group)\n",
    "sns.histplot(group0, bins=bins, kde=True, color='blue', label='Sedentary Group', alpha=0.5, stat='probability')\n",
    "\n",
    "# Гистограмма и KDE для Group 1 (Running Group)\n",
    "sns.histplot(group1, bins=bins, kde=True, color='red', label='Running Group', alpha=0.5, stat='probability')\n",
    "\n",
    "# Настройка заголовков, меток и легенды\n",
    "plt.xticks(size)\n",
    "plt.yticks(np.arange(0,0.45,0.1))\n",
    "plt.xlabel('10-90 % Rise time, ms', fontsize=24)\n",
    "plt.ylabel('Fraction', fontsize=28)\n",
    "plt.xticks(fontsize=24)  # Adjust the fontsize as needed\n",
    "plt.yticks(fontsize=24)  # Adjust the fontsize as needed\n",
    "plt.legend(fontsize=20)\n",
    "plt.tight_layout()\n",
    "plt.show()\n"
   ]
  },
  {
   "cell_type": "code",
   "execution_count": 37,
   "id": "383ad277",
   "metadata": {},
   "outputs": [
    {
     "name": "stdout",
     "output_type": "stream",
     "text": [
      "Using matplotlib backend: QtAgg\n"
     ]
    }
   ],
   "source": [
    "#dFF\n",
    "%matplotlib\n",
    "import matplotlib.pyplot as plt\n",
    "import scipy.stats as stats\n",
    "import seaborn as sns\n",
    "import numpy as np\n",
    "\n",
    "size = np.arange(1, 8.1, 1)\n",
    "plt.figure(figsize=(10,6))\n",
    "\n",
    "# Определение binwidth и bins\n",
    "binwidth = 1\n",
    "bins = np.arange(1, 8 + binwidth, binwidth)\n",
    "\n",
    "# Гистограмма и KDE для Group 0 (Sedentary Group)\n",
    "sns.histplot(group0, bins=bins, kde=True, color='blue', label='Sedentary Group', alpha=0.5, stat='probability')\n",
    "\n",
    "# Гистограмма и KDE для Group 1 (Running Group)\n",
    "sns.histplot(group1, bins=bins, kde=True, color='red', label='Running Group', alpha=0.5, stat='probability')\n",
    "\n",
    "# Настройка заголовков, меток и легенды\n",
    "plt.xticks(size)\n",
    "plt.yticks(np.arange(0,0.45,0.1))\n",
    "plt.xlabel('$\\Delta F/F_0$', fontsize=24)\n",
    "plt.ylabel('Fraction', fontsize=28)\n",
    "plt.xticks(fontsize=24)  # Adjust the fontsize as needed\n",
    "plt.yticks(fontsize=24)  # Adjust the fontsize as needed\n",
    "plt.legend(fontsize=20)\n",
    "plt.tight_layout()\n",
    "plt.show()\n"
   ]
  },
  {
   "cell_type": "code",
   "execution_count": 50,
   "id": "bacb7d46",
   "metadata": {},
   "outputs": [
    {
     "name": "stdout",
     "output_type": "stream",
     "text": [
      "Using matplotlib backend: QtAgg\n"
     ]
    }
   ],
   "source": [
    "#dLL\n",
    "%matplotlib\n",
    "import matplotlib.pyplot as plt\n",
    "import scipy.stats as stats\n",
    "import seaborn as sns\n",
    "import numpy as np\n",
    "\n",
    "size = np.arange(0.75, 1.01, 0.05)\n",
    "plt.figure(figsize=(10,6))\n",
    "\n",
    "# Определение binwidth и bins\n",
    "binwidth =0.03\n",
    "bins = np.arange(0.75, 1.0 + binwidth, binwidth)\n",
    "\n",
    "# Гистограмма и KDE для Group 0 (Sedentary Group)\n",
    "sns.histplot(group0, bins=bins, kde=True, color='blue', label='Sedentary Group', alpha=0.5, stat='probability')\n",
    "\n",
    "# Гистограмма и KDE для Group 1 (Running Group)\n",
    "sns.histplot(group1, bins=bins, kde=True, color='red', label='Running Group', alpha=0.5, stat='probability')\n",
    "\n",
    "# Настройка заголовков, меток и легенды\n",
    "plt.xticks(size)\n",
    "plt.yticks(np.arange(0,0.45,0.1))\n",
    "plt.xlabel('$\\Delta L/L_0$', fontsize=24)\n",
    "plt.ylabel('Fraction', fontsize=28)\n",
    "plt.xticks(fontsize=24)  # Adjust the fontsize as needed\n",
    "plt.yticks(fontsize=24)  # Adjust the fontsize as needed\n",
    "plt.legend(fontsize=20)\n",
    "plt.tight_layout()\n",
    "plt.show()\n"
   ]
  },
  {
   "cell_type": "code",
   "execution_count": 27,
   "id": "8c668bd9",
   "metadata": {},
   "outputs": [
    {
     "name": "stdout",
     "output_type": "stream",
     "text": [
      "Using matplotlib backend: QtAgg\n"
     ]
    }
   ],
   "source": [
    "%matplotlib\n",
    "import matplotlib.pyplot as plt\n",
    "import scipy.stats as stats\n",
    "import seaborn as sns\n",
    "import numpy as np\n",
    "\n",
    "size = np.arange(1, 9, 1)\n",
    "plt.figure(figsize=(10,6))\n",
    "\n",
    "binwidth = 1\n",
    "bins = np.arange(1, 9 + binwidth, binwidth)\n",
    "\n",
    "# Plotting histogram for Group 0 (Sedentary Group)\n",
    "\n",
    "\n",
    "sns.histplot(group0,  kde=True, color='blue', label='Sedentary Group', alpha=0.5,binwidth = 0.5,stat='probability')\n",
    "sns.histplot(group1,  kde=True, color='red', label='Running Group', alpha=0.5,binwidth = 0.5, stat='probability')\n",
    "\n",
    "# Setting the title, labels, and legend\n",
    "#plt.title('Histogram FDHM for Sedentary and Running Groups')\n",
    "\n",
    "plt.xticks(size)\n",
    "plt.yticks(np.arange(0,0.45,0.1))\n",
    "plt.xlabel('$\\Delta F/F_0$', fontsize=24)\n",
    "plt.ylabel('Fraction', fontsize=28)\n",
    "\n",
    "\n",
    "plt.xticks(fontsize=24)  # Adjust the fontsize as needed\n",
    "plt.yticks(fontsize=24)  # Adjust the fontsize as needed\n",
    "\n",
    "\n",
    "\n",
    "plt.legend(fontsize=20)\n",
    "\n",
    "plt.tight_layout()\n",
    "plt.show()\n"
   ]
  },
  {
   "cell_type": "code",
   "execution_count": 26,
   "id": "c99f720c",
   "metadata": {},
   "outputs": [],
   "source": [
    "plt.figure(figsize=(10,6))\n",
    "size = np.arange(1, 9, 1)\n",
    "# Определение binwidth и bins\n",
    "binwidth = 1\n",
    "bins = np.arange(1, 9 + binwidth, binwidth)\n",
    "\n",
    "# Гистограмма для Group 0 (Sedentary Group)\n",
    "plt.hist(group0, bins=bins, alpha=0.5, label='Sedentary Group', color='blue', density=True, edgecolor='k')\n",
    "# Гистограмма для Group 1 (Running Group)\n",
    "plt.hist(group1, bins=bins, alpha=0.5, label='Running Group', color='red', density=True, edgecolor='k')\n",
    "\n",
    "# Добавляем KDE к гистограммам\n",
    "sns.kdeplot(group0, color='blue')\n",
    "sns.kdeplot(group1, color='red')\n",
    "\n",
    "# Настройка заголовков, меток и легенды\n",
    "plt.xticks(size)\n",
    "plt.yticks(np.arange(0,0.45,0.1))\n",
    "plt.xlabel('$\\Delta F/F_0$', fontsize=24)\n",
    "plt.ylabel('Fraction', fontsize=28)\n",
    "plt.xticks(fontsize=24)  # Adjust the fontsize as needed\n",
    "plt.yticks(fontsize=24)  # Adjust the fontsize as needed\n",
    "plt.legend(fontsize=20)\n",
    "plt.tight_layout()\n",
    "plt.show()\n"
   ]
  },
  {
   "cell_type": "code",
   "execution_count": 15,
   "id": "a78506e5",
   "metadata": {},
   "outputs": [
    {
     "name": "stdout",
     "output_type": "stream",
     "text": [
      "Group 0: Statistics=0.981, p=0.000\n",
      "Group 1: Statistics=0.990, p=0.000\n"
     ]
    }
   ],
   "source": [
    "stat0, p0 = shapiro(group0)\n",
    "stat1, p1 = shapiro(group1)\n",
    "\n",
    "print('Group 0: Statistics=%.3f, p=%.3f' % (stat0, p0))\n",
    "print('Group 1: Statistics=%.3f, p=%.3f' % (stat1, p1))"
   ]
  },
  {
   "cell_type": "code",
   "execution_count": 161,
   "id": "c8eab2bf",
   "metadata": {},
   "outputs": [
    {
     "name": "stdout",
     "output_type": "stream",
     "text": [
      "Group 0: Statistics=17.060, p=0.000\n",
      "Group 1: Statistics=4.643, p=0.098\n"
     ]
    }
   ],
   "source": [
    "stat0, p0 = normaltest(group0)\n",
    "stat1, p1 = normaltest(group1)\n",
    "\n",
    "print('Group 0: Statistics=%.3f, p=%.3f' % (stat0, p0))\n",
    "print('Group 1: Statistics=%.3f, p=%.3f' % (stat1, p1))"
   ]
  },
  {
   "cell_type": "code",
   "execution_count": 125,
   "id": "a1a53bf6",
   "metadata": {},
   "outputs": [
    {
     "name": "stdout",
     "output_type": "stream",
     "text": [
      "Using matplotlib backend: QtAgg\n"
     ]
    }
   ],
   "source": [
    "%matplotlib\n",
    "import matplotlib.pyplot as plt\n",
    "import scipy.stats as stats\n",
    "import seaborn as sns\n",
    "import numpy as np\n",
    "\n",
    "# Histogram\n",
    "plt.figure(figsize=(10, 6))\n",
    "\n",
    "# Group 0\n",
    "plt.subplot(221)  # 2 rows, 2 columns, plot number 1\n",
    "sns.histplot(group0, kde=True, color='blue')\n",
    "plt.title('Histogram $\\Delta L/L_0}$ for Sedentary Group')\n",
    "plt.xticks(np.arange(0.75, 1, 0.05))\n",
    "plt.xlabel('$\\Delta L/L_0}$', fontsize=14)\n",
    "plt.ylabel('Count', fontsize=14)\n",
    "\n",
    "\n",
    "# Group 1\n",
    "plt.subplot(222)  # 2 rows, 2 columns, plot number 2\n",
    "sns.histplot(group1, kde=True, color='red')\n",
    "plt.title('Histogram $\\Delta L/L_0}$ for Running Group')\n",
    "plt.xticks(np.arange(0.75, 1, 0.05))\n",
    "\n",
    "plt.xlabel('$\\Delta L/L_0}$', fontsize=14)\n",
    "plt.ylabel('Count', fontsize=14)\n",
    "\n",
    "# Q-Q plot\n",
    "# Group 0\n",
    "plt.subplot(223)  # 2 rows, 2 columns, plot number 3\n",
    "stats.probplot(group0, plot=plt)\n",
    "plt.title('Q-Q plot for Sedentary Group')\n",
    "plt.ylabel('$\\Delta L/L_0}$', fontsize=14)\n",
    "plt.xlabel('Theoretical quantiles', fontsize=14)\n",
    "\n",
    "# Group 1\n",
    "plt.subplot(224)  # 2 rows, 2 columns, plot number 4\n",
    "stats.probplot(group1, plot=plt)\n",
    "plt.title('Q-Q plot for Running Group')\n",
    "plt.ylabel('$\\Delta L/L_0}$', fontsize=14)\n",
    "plt.xlabel('Theoretical quantiles', fontsize=14)\n",
    "\n",
    "plt.tight_layout()  # To prevent overlap of subplot labels\n",
    "plt.show()\n",
    "\n"
   ]
  },
  {
   "cell_type": "code",
   "execution_count": null,
   "id": "e4ecd5fc",
   "metadata": {},
   "outputs": [],
   "source": []
  },
  {
   "cell_type": "code",
   "execution_count": 52,
   "id": "7a9e544d",
   "metadata": {},
   "outputs": [
    {
     "ename": "AttributeError",
     "evalue": "'function' object has no attribute 'plot'",
     "output_type": "error",
     "traceback": [
      "\u001b[1;31m---------------------------------------------------------------------------\u001b[0m",
      "\u001b[1;31mAttributeError\u001b[0m                            Traceback (most recent call last)",
      "Cell \u001b[1;32mIn[52], line 14\u001b[0m\n\u001b[0;32m     11\u001b[0m     plt\u001b[38;5;241m.\u001b[39mplot(args[\u001b[38;5;241m0\u001b[39m], args[\u001b[38;5;241m2\u001b[39m], color\u001b[38;5;241m=\u001b[39m\u001b[38;5;124m'\u001b[39m\u001b[38;5;124mred\u001b[39m\u001b[38;5;124m'\u001b[39m)\n\u001b[0;32m     13\u001b[0m \u001b[38;5;66;03m# Q-Q plot data for Group 0 (Sedentary Group)\u001b[39;00m\n\u001b[1;32m---> 14\u001b[0m \u001b[43mstats\u001b[49m\u001b[38;5;241;43m.\u001b[39;49m\u001b[43mprobplot\u001b[49m\u001b[43m(\u001b[49m\u001b[43mgroup0\u001b[49m\u001b[43m,\u001b[49m\u001b[43m \u001b[49m\u001b[43mplot\u001b[49m\u001b[38;5;241;43m=\u001b[39;49m\u001b[43mqqplot_blue\u001b[49m\u001b[43m,\u001b[49m\u001b[43m \u001b[49m\u001b[43mfit\u001b[49m\u001b[38;5;241;43m=\u001b[39;49m\u001b[38;5;28;43;01mTrue\u001b[39;49;00m\u001b[43m)\u001b[49m\n\u001b[0;32m     16\u001b[0m \u001b[38;5;66;03m# Q-Q plot data for Group 1 (Running Group)\u001b[39;00m\n\u001b[0;32m     17\u001b[0m stats\u001b[38;5;241m.\u001b[39mprobplot(group1, plot\u001b[38;5;241m=\u001b[39mqqplot_red, fit\u001b[38;5;241m=\u001b[39m\u001b[38;5;28;01mTrue\u001b[39;00m)\n",
      "File \u001b[1;32m~\\anaconda3\\lib\\site-packages\\scipy\\stats\\_morestats.py:625\u001b[0m, in \u001b[0;36mprobplot\u001b[1;34m(x, sparams, dist, fit, plot, rvalue)\u001b[0m\n\u001b[0;32m    622\u001b[0m     slope, intercept, r, prob, _ \u001b[38;5;241m=\u001b[39m _stats_py\u001b[38;5;241m.\u001b[39mlinregress(osm, osr)\n\u001b[0;32m    624\u001b[0m \u001b[38;5;28;01mif\u001b[39;00m plot \u001b[38;5;129;01mis\u001b[39;00m \u001b[38;5;129;01mnot\u001b[39;00m \u001b[38;5;28;01mNone\u001b[39;00m:\n\u001b[1;32m--> 625\u001b[0m     \u001b[43mplot\u001b[49m\u001b[38;5;241;43m.\u001b[39;49m\u001b[43mplot\u001b[49m(osm, osr, \u001b[38;5;124m'\u001b[39m\u001b[38;5;124mbo\u001b[39m\u001b[38;5;124m'\u001b[39m)\n\u001b[0;32m    626\u001b[0m     \u001b[38;5;28;01mif\u001b[39;00m fit:\n\u001b[0;32m    627\u001b[0m         plot\u001b[38;5;241m.\u001b[39mplot(osm, slope\u001b[38;5;241m*\u001b[39mosm \u001b[38;5;241m+\u001b[39m intercept, \u001b[38;5;124m'\u001b[39m\u001b[38;5;124mr-\u001b[39m\u001b[38;5;124m'\u001b[39m)\n",
      "\u001b[1;31mAttributeError\u001b[0m: 'function' object has no attribute 'plot'"
     ]
    }
   ],
   "source": [
    "plt.figure(figsize=(10,6))\n",
    "\n",
    "# Custom plot for group0 with blue color\n",
    "def qqplot_blue(*args, **kwargs):\n",
    "    plt.scatter(args[0], args[1], color='blue', s=5)\n",
    "    plt.plot(args[0], args[2], color='blue')\n",
    "\n",
    "# Custom plot for group1 with red color\n",
    "def qqplot_red(*args, **kwargs):\n",
    "    plt.scatter(args[0], args[1], color='red', s=5)\n",
    "    plt.plot(args[0], args[2], color='red')\n",
    "\n",
    "# Q-Q plot data for Group 0 (Sedentary Group)\n",
    "stats.probplot(group0, plot=qqplot_blue, fit=True)\n",
    "\n",
    "# Q-Q plot data for Group 1 (Running Group)\n",
    "stats.probplot(group1, plot=qqplot_red, fit=True)\n",
    "\n",
    "plt.title('Q-Q plot for Sedentary and Running Groups')\n",
    "plt.show()\n"
   ]
  },
  {
   "cell_type": "code",
   "execution_count": 33,
   "id": "c97bb817",
   "metadata": {},
   "outputs": [],
   "source": [
    "import numpy as np\n",
    "\n",
    "# Transform your groups using np.log\n",
    "group0_log = np.log(group0)\n",
    "group1_log = np.log(group1)\n",
    "\n"
   ]
  },
  {
   "cell_type": "code",
   "execution_count": 19,
   "id": "f796b6e9",
   "metadata": {},
   "outputs": [],
   "source": [
    "# Histogram\n",
    "plt.figure(figsize=(10, 6))\n",
    "\n",
    "# Group 0\n",
    "plt.subplot(221)  # 2 rows, 2 columns, plot number 1\n",
    "sns.histplot(group0_log, kde=True, color='blue')\n",
    "plt.title('Histogram dFF for Log Transformed Group 0')\n",
    "\n",
    "# Group 1\n",
    "plt.subplot(222)  # 2 rows, 2 columns, plot number 2\n",
    "sns.histplot(group1_log, kde=True, color='red')\n",
    "plt.title('Histogram dFF for Log Transformed Group 1')\n",
    "\n",
    "# Q-Q plot\n",
    "# Group 0\n",
    "plt.subplot(223)  # 2 rows, 2 columns, plot number 3\n",
    "stats.probplot(group0_log, plot=plt)\n",
    "plt.title('Q-Q plot for Log Transformed Group 0')\n",
    "\n",
    "# Group 1\n",
    "plt.subplot(224)  # 2 rows, 2 columns, plot number 4\n",
    "stats.probplot(group1_log, plot=plt)\n",
    "plt.title('Q-Q plot for Log Transformed Group 1')\n",
    "\n",
    "plt.tight_layout()  # To prevent overlap of subplot labels\n",
    "plt.show()\n"
   ]
  },
  {
   "cell_type": "code",
   "execution_count": 20,
   "id": "f9e8c1b9",
   "metadata": {},
   "outputs": [
    {
     "name": "stdout",
     "output_type": "stream",
     "text": [
      "Group 0: Statistics=0.900, p=0.000\n",
      "Group 1: Statistics=0.970, p=0.000\n"
     ]
    }
   ],
   "source": [
    "stat0, p0 = shapiro(group0_log)\n",
    "stat1, p1 = shapiro(group1_log)\n",
    "\n",
    "print('Group 0: Statistics=%.3f, p=%.3f' % (stat0, p0))\n",
    "print('Group 1: Statistics=%.3f, p=%.3f' % (stat1, p1))"
   ]
  },
  {
   "cell_type": "code",
   "execution_count": 21,
   "id": "2a74d84a",
   "metadata": {},
   "outputs": [],
   "source": [
    "group0_sqrt = np.sqrt(group0)\n",
    "group1_sqrt = np.sqrt(group1)"
   ]
  },
  {
   "cell_type": "code",
   "execution_count": 22,
   "id": "b2016056",
   "metadata": {},
   "outputs": [],
   "source": [
    "# Histogram\n",
    "plt.figure(figsize=(10, 6))\n",
    "\n",
    "# Group 0\n",
    "plt.subplot(221)  # 2 rows, 2 columns, plot number 1\n",
    "sns.histplot(group0_sqrt, kde=True, color='blue')\n",
    "plt.title('Histogram for Log Transformed Group 0')\n",
    "\n",
    "# Group 1\n",
    "plt.subplot(222)  # 2 rows, 2 columns, plot number 2\n",
    "sns.histplot(group1_sqrt, kde=True, color='red')\n",
    "plt.title('Histogram for Log Transformed Group 1')\n",
    "\n",
    "# Q-Q plot\n",
    "# Group 0\n",
    "plt.subplot(223)  # 2 rows, 2 columns, plot number 3\n",
    "stats.probplot(group0_sqrt, plot=plt)\n",
    "plt.title('Q-Q plot for Log Transformed Group 0')\n",
    "\n",
    "# Group 1\n",
    "plt.subplot(224)  # 2 rows, 2 columns, plot number 4\n",
    "stats.probplot(group1_sqrt, plot=plt)\n",
    "plt.title('Q-Q plot for Log Transformed Group 1')\n",
    "\n",
    "plt.tight_layout()  # To prevent overlap of subplot labels\n",
    "plt.show()"
   ]
  },
  {
   "cell_type": "code",
   "execution_count": 23,
   "id": "60db0e48",
   "metadata": {},
   "outputs": [
    {
     "name": "stdout",
     "output_type": "stream",
     "text": [
      "Group 0: Statistics=0.953, p=0.000\n",
      "Group 1: Statistics=0.989, p=0.000\n"
     ]
    }
   ],
   "source": [
    "stat0, p0 = shapiro(group0_sqrt)\n",
    "stat1, p1 = shapiro(group1_sqrt)\n",
    "\n",
    "print('Group 0: Statistics=%.3f, p=%.3f' % (stat0, p0))\n",
    "print('Group 1: Statistics=%.3f, p=%.3f' % (stat1, p1))"
   ]
  },
  {
   "cell_type": "code",
   "execution_count": 164,
   "id": "74c2af4f",
   "metadata": {},
   "outputs": [
    {
     "name": "stdout",
     "output_type": "stream",
     "text": [
      "H Statistic: 6.20907007026517\n",
      "P Value: 0.012709737932770877\n"
     ]
    }
   ],
   "source": [
    "from scipy.stats import kruskal\n",
    "group0 = df[df['Factor'] == 0]['r_10 ']\n",
    "group1 = df[df['Factor'] == 1]['r_10 ']\n",
    "\n",
    "h_statistic, p_value = kruskal(group0, group1)\n",
    "\n",
    "print(\"H Statistic:\", h_statistic)\n",
    "print(\"P Value:\", p_value)\n"
   ]
  },
  {
   "cell_type": "code",
   "execution_count": 165,
   "id": "788433f2",
   "metadata": {},
   "outputs": [
    {
     "name": "stdout",
     "output_type": "stream",
     "text": [
      "H Statistic: 6.20907007026517\n",
      "P Value: 0.012709737932770877\n"
     ]
    }
   ],
   "source": [
    "from scipy.stats import kruskal\n",
    "group0 = df[df['Factor'] == 0]['r_10 ']\n",
    "group1 = df[df['Factor'] == 1]['r_10 ']\n",
    "\n",
    "h_statistic, p_value = kruskal(group0, group1)\n",
    "\n",
    "print(\"H Statistic:\", h_statistic)\n",
    "print(\"P Value:\", p_value)\n"
   ]
  },
  {
   "cell_type": "code",
   "execution_count": 40,
   "id": "a7386465",
   "metadata": {},
   "outputs": [
    {
     "name": "stderr",
     "output_type": "stream",
     "text": [
      "C:\\Users\\julba\\anaconda3\\lib\\site-packages\\seaborn\\categorical.py:3544: UserWarning: 7.8% of the points cannot be placed; you may want to decrease the size of the markers or use stripplot.\n",
      "  warnings.warn(msg, UserWarning)\n",
      "C:\\Users\\julba\\anaconda3\\lib\\site-packages\\seaborn\\categorical.py:3544: UserWarning: 16.3% of the points cannot be placed; you may want to decrease the size of the markers or use stripplot.\n",
      "  warnings.warn(msg, UserWarning)\n"
     ]
    }
   ],
   "source": [
    "import seaborn as sns\n",
    "import matplotlib.pyplot as plt\n",
    "\n",
    "# Create a new DataFrame for the visualizations\n",
    "viz_df = pd.concat([group0, group1], keys=['0', '1']).reset_index().rename(columns={'level_0': 'Factor'})\n",
    "\n",
    "plt.figure(figsize=(8, 6))\n",
    "sns.boxplot(x='Factor', y='r_10 ', data=viz_df, width=0.5)\n",
    "\n",
    "# Add jitter with the swarmplot function\n",
    "sns.swarmplot(x='Factor', y='r_10 ', data=viz_df, color=\"black\")\n",
    "\n",
    "plt.title('Boxplot with Stripplot of r_10 for each Factor')\n",
    "plt.xlabel('Factor')\n",
    "plt.ylabel('r_10 ')\n",
    "plt.show()\n"
   ]
  },
  {
   "cell_type": "code",
   "execution_count": null,
   "id": "a07592b4",
   "metadata": {},
   "outputs": [],
   "source": []
  }
 ],
 "metadata": {
  "kernelspec": {
   "display_name": "Python 3 (ipykernel)",
   "language": "python",
   "name": "python3"
  },
  "language_info": {
   "codemirror_mode": {
    "name": "ipython",
    "version": 3
   },
   "file_extension": ".py",
   "mimetype": "text/x-python",
   "name": "python",
   "nbconvert_exporter": "python",
   "pygments_lexer": "ipython3",
   "version": "3.9.12"
  }
 },
 "nbformat": 4,
 "nbformat_minor": 5
}
